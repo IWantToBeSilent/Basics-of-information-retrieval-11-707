{
 "cells": [
  {
   "cell_type": "code",
   "execution_count": 7,
   "id": "boolean-isolation",
   "metadata": {},
   "outputs": [
    {
     "name": "stdout",
     "output_type": "stream",
     "text": [
      "Done.\n"
     ]
    }
   ],
   "source": [
    "import nltk\n",
    "import math\n",
    "import os\n",
    "import string\n",
    "import spacy \n",
    "from nltk.stem.wordnet import WordNetLemmatizer\n",
    "from nltk.corpus import stopwords\n",
    "import re\n",
    "from  more_itertools import unique_everseen\n",
    "\n",
    "nlp = spacy.load(\"en_core_web_sm\")\n",
    "#nltk.download('punkt') #Необходимо для первого запуска.\n",
    "\n",
    "\n",
    "def make_tf_idf_list(dict, filelist):\n",
    "    stop_words = set(stopwords.words(\"english\"))\n",
    "    for i in filelist:\n",
    "        count_words = 0\n",
    "        tf_idf_list = dict.copy()\n",
    "        file = open(os.path.join('all_text/'+ i), 'r', encoding=\"utf-8\")\n",
    "        text = file.read()\n",
    "        file.close()\n",
    "        text = text.lower()\n",
    "        r = re.compile(\"^[a-z]+$\") \n",
    "        nltk_words = nltk.word_tokenize(text)\n",
    "        nltk_words = [word for word in filter(r.match, nltk_words)] #Удаление не английских слов.\n",
    "        nltk_words = [word for word in nltk_words if not word in stop_words] #Удаление стоп-слов.\n",
    "        \n",
    "        #Заполняем информацию о встречаемости слова в отдельном документе.\n",
    "        for nltk_word in nltk_words:\n",
    "            count_words += 1\n",
    "            lemma = nlp(nltk_word)[0].lemma_\n",
    "            tf_idf_list[lemma][0] += 1\n",
    "        \n",
    "        for term in dict:\n",
    "            if tf_idf_list[term][0] == 0:\n",
    "                del tf_idf_list[term] #Удаляем слова, которые не встречались в этом документе.\n",
    "            else:\n",
    "                tf_idf_list[term][0] = tf_idf_list[term][0] / count_words # Подсчёт tf.\n",
    "                tf_idf_list[term][2] = tf_idf_list[term][0] * tf_idf_list[term][1] #Подсчёт tf-idf.\n",
    "        file_num = re.findall(r'\\d+', i)[0]\n",
    "        file = open('all_tf_idf/tf_idf_{}.txt'.format(file_num), 'w', encoding=\"utf-8\")\n",
    "        for key,val  in tf_idf_list.items():\n",
    "            file.write('\\n{} {} {} '.format(key, val[1], val[2]))\n",
    "        file.close()\n",
    "        \n",
    "if __name__ == \"__main__\":\n",
    "    \n",
    "    dir = 'all_text/'\n",
    "    filelist = os.listdir(dir)\n",
    "    dict = {}\n",
    "    \n",
    "    #Нахождение idf для каждого термина.\n",
    "    f = open('invert_list.txt','r', encoding=\"utf-8\")\n",
    "    terms = f.readlines()\n",
    "    f.close()\n",
    "    for term in terms:\n",
    "        arr = term.split(' ')\n",
    "        dict[arr[0]] = [0, math.log(len(filelist)/(len(arr) - 2)), 0]\n",
    "    #Создание списка.\n",
    "    make_tf_idf_list(dict, filelist)    \n",
    "    print(\"Done.\")\n",
    "       "
   ]
  },
  {
   "cell_type": "code",
   "execution_count": null,
   "id": "driving-meaning",
   "metadata": {},
   "outputs": [],
   "source": []
  }
 ],
 "metadata": {
  "kernelspec": {
   "display_name": "Python 3",
   "language": "python",
   "name": "python3"
  },
  "language_info": {
   "codemirror_mode": {
    "name": "ipython",
    "version": 3
   },
   "file_extension": ".py",
   "mimetype": "text/x-python",
   "name": "python",
   "nbconvert_exporter": "python",
   "pygments_lexer": "ipython3",
   "version": "3.6.8"
  }
 },
 "nbformat": 4,
 "nbformat_minor": 5
}
