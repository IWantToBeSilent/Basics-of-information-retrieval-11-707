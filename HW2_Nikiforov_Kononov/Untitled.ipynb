{
 "cells": [
  {
   "cell_type": "code",
   "execution_count": 10,
   "metadata": {
    "scrolled": true
   },
   "outputs": [
    {
     "name": "stdout",
     "output_type": "stream",
     "text": [
      "Done.\n"
     ]
    }
   ],
   "source": [
    "import nltk\n",
    "import os\n",
    "import string\n",
    "import spacy \n",
    "\n",
    "\n",
    "#nltk.download('punkt') #Необходимо для первого запуска.\n",
    "\n",
    "\n",
    "def tokenization(file, destination):\n",
    "    text = file.read()\n",
    "    words = nltk.word_tokenize(text)\n",
    "    words = [i for i in words if ( i not in string.punctuation )]\n",
    "    for word in words:\n",
    "        destination.write(f'{word}\\n')  \n",
    "\n",
    "def lemmatization(origin, destination):\n",
    "    text = origin.read()\n",
    "    words = nltk.word_tokenize(text)\n",
    "    for word in words:\n",
    "        nlp_word = nlp(word)\n",
    "        destination.write(f'Lemma: {nlp_word[0].lemma_}\\t Word: {word}\\n')  \n",
    "        \n",
    "if __name__ == \"__main__\":\n",
    "    \n",
    "    #Токенизация.\n",
    "    token_txt = open(f'tokenization.txt','w', encoding=\"utf-8\")\n",
    "    dir = 'all_text/'\n",
    "    filelist = os.listdir(dir)\n",
    "    for i in filelist:\n",
    "        file = open(os.path.join('all_text/'+ i), 'r', encoding=\"utf-8\")\n",
    "        tokenization(file, token_txt)\n",
    "        file.close()\n",
    "    token_txt.close()\n",
    "    \n",
    "    #Лемматизация.\n",
    "    nlp = spacy.load(\"en_core_web_sm\")\n",
    "    lemmatizer = WordNetLemmatizer()\n",
    "    lemma_txt = open(f'lemmatization.txt','w', encoding=\"utf-8\")\n",
    "    token_txt = open(f'tokenization.txt','r', encoding=\"utf-8\")\n",
    "    lemmatization(token_txt, lemma_txt)\n",
    "    lemma_txt.close()\n",
    "    token_txt.close()\n",
    "    \n",
    "    print(\"Done.\")\n",
    "        "
   ]
  },
  {
   "cell_type": "code",
   "execution_count": null,
   "metadata": {},
   "outputs": [],
   "source": []
  }
 ],
 "metadata": {
  "kernelspec": {
   "display_name": "Python 3",
   "language": "python",
   "name": "python3"
  },
  "language_info": {
   "codemirror_mode": {
    "name": "ipython",
    "version": 3
   },
   "file_extension": ".py",
   "mimetype": "text/x-python",
   "name": "python",
   "nbconvert_exporter": "python",
   "pygments_lexer": "ipython3",
   "version": "3.6.8"
  }
 },
 "nbformat": 4,
 "nbformat_minor": 4
}
