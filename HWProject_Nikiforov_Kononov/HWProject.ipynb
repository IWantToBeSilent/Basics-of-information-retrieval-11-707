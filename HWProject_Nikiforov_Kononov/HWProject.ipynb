{
 "cells": [
  {
   "cell_type": "code",
   "execution_count": 1,
   "id": "boolean-isolation",
   "metadata": {
    "scrolled": true
   },
   "outputs": [
    {
     "name": "stdout",
     "output_type": "stream",
     "text": [
      "Done.\n"
     ]
    }
   ],
   "source": [
    "import nltk\n",
    "import math\n",
    "import os\n",
    "import string\n",
    "import spacy \n",
    "from nltk.stem.wordnet import WordNetLemmatizer\n",
    "from nltk.corpus import stopwords\n",
    "import re\n",
    "from tkinter import *\n",
    "import webbrowser\n",
    "\n",
    "nlp = spacy.load(\"en_core_web_sm\")\n",
    "#nltk.download('punkt') #Необходимо для первого запуска.\n",
    "\n",
    "\n",
    "#Для работы НЕОБХОДИМО, ЧТОБЫ СОДЕРЖИМОЕ В ПАПКЕ \"all_tf_idf\" БЫЛО РАЗАРХИВИРОВАНО.\n",
    "\n",
    "def callback(event):\n",
    "    webbrowser.open_new(event.widget.cget(\"text\"))\n",
    "\n",
    "def find_docs():\n",
    "    stop_words = set(stopwords.words(\"english\"))\n",
    "    request = txt.get()\n",
    "    request = request.lower()\n",
    "    r = re.compile(\"^[a-z]+$\") \n",
    "    clear_req = nltk.word_tokenize(request)\n",
    "    clear_req = [word for word in filter(r.match, clear_req)] #Удаление не английских слов.\n",
    "    clear_req = [word for word in clear_req if not word in stop_words] #Удаление стоп-слов.\n",
    "    for word in clear_req:\n",
    "        word = nlp(word)[0].lemma #Замена слов на леммы.\n",
    "    clear_req = set(clear_req) #Удаление повторений.\n",
    "    dir = 'all_tf_idf/'\n",
    "    filelist = os.listdir(dir)\n",
    "    dict = {}\n",
    "    value_dict = {}\n",
    "    for i in filelist:\n",
    "        file = open(os.path.join('all_tf_idf/'+ i), 'r', encoding=\"utf-8\")\n",
    "        text = file.readlines()\n",
    "        text.pop(0)\n",
    "        word_count = 0\n",
    "        file_num = re.findall(r'\\d+', i)[0]\n",
    "        for line in text:\n",
    "            arr = line.split(' ')\n",
    "            if arr[0] in clear_req:\n",
    "                word_count += 1\n",
    "                if file_num in dict: \n",
    "                    dict[file_num].append(float(arr[2]))\n",
    "                else:\n",
    "                    dict[file_num] = [float(arr[2])]\n",
    "            if word_count == len(clear_req):\n",
    "                value_dict[file_num] = [math.sqrt(sum(map(lambda x:x*x, dict[file_num])))]\n",
    "                break\n",
    "    index = open(os.path.join('index.txt'), 'r', encoding=\"utf-8\")\n",
    "    text = index.readlines()\n",
    "    for line in text:\n",
    "        arr = line.split(' ')\n",
    "        if arr[0] in value_dict:\n",
    "            value_dict[arr[0]].append(arr[1])\n",
    "    value_dict = sorted(value_dict.items(), key=lambda item: item[1], reverse=True)  \n",
    "    count = 0\n",
    "    for value in value_dict:\n",
    "        if count == 15:\n",
    "            break\n",
    "        lbl_link = Label(window, text=value[1][1], fg=\"blue\", cursor=\"hand2\")\n",
    "        lbl_link.grid(column=0, row=10+count) \n",
    "        lbl_link.bind(\"<Button-1>\", callback)\n",
    "        count += 1\n",
    "\n",
    "        \n",
    "if __name__ == \"__main__\":\n",
    "    window = Tk()  \n",
    "    window.title(\"Мой поисковик.\")  \n",
    "    window.geometry('1000x1000')  \n",
    "    lbl = Label(window, text=\"Введите запрос на английском\")  \n",
    "    lbl.grid(column=0, row=0)  \n",
    "    txt = Entry(window,width=20)  \n",
    "    txt.grid(column=1, row=0)  \n",
    "    btn = Button(window, text=\"Клик!\", command=find_docs)  \n",
    "    btn.grid(column=2, row=0)  \n",
    "    window.mainloop()\n",
    "   \n",
    "    print(\"Done.\")"
   ]
  },
  {
   "cell_type": "code",
   "execution_count": null,
   "id": "smart-practitioner",
   "metadata": {},
   "outputs": [],
   "source": []
  }
 ],
 "metadata": {
  "kernelspec": {
   "display_name": "Python 3",
   "language": "python",
   "name": "python3"
  },
  "language_info": {
   "codemirror_mode": {
    "name": "ipython",
    "version": 3
   },
   "file_extension": ".py",
   "mimetype": "text/x-python",
   "name": "python",
   "nbconvert_exporter": "python",
   "pygments_lexer": "ipython3",
   "version": "3.6.8"
  }
 },
 "nbformat": 4,
 "nbformat_minor": 5
}
